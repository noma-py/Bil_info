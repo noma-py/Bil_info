{
 "cells": [
  {
   "cell_type": "code",
   "execution_count": 5,
   "id": "7edee55a-bc4c-4eea-af4b-0d1ad7d7db50",
   "metadata": {},
   "outputs": [
    {
     "name": "stdin",
     "output_type": "stream",
     "text": [
      "Ange bilens märke:  byd\n",
      "Ange bilens färg:  blå\n",
      "Ange bilens produktionsår (heltal):  1212\n"
     ]
    },
    {
     "name": "stdout",
     "output_type": "stream",
     "text": [
      "\n",
      "Bilen är en blå byd från 1212.\n",
      "\n",
      "Bilen är 813 år gammal.\n"
     ]
    }
   ],
   "source": [
    "import datetime\n",
    "\n",
    "class Bil:\n",
    "    def __init__(self,märke,färg,år):\n",
    "        self.märke=märke\n",
    "        self.färg=färg\n",
    "        self.år=år\n",
    "        self.mil=0\n",
    "   \n",
    "    def beskriv_bil(self):\n",
    "        print(f'\\nBilen är en {self.färg} {self.märke} från {self.år}.')\n",
    "   \n",
    "    def beräkna_år(self):\n",
    "        aktuellt_år=datetime.datetime.now().year\n",
    "        ålder=aktuellt_år-self.år\n",
    "        self.ålder=ålder\n",
    "        print(f'\\nBilen är {self.ålder} år gammal.')\n",
    "\n",
    "\n",
    "märke=input(\"Ange bilens märke: \")\n",
    "färg=input(\"Ange bilens färg: \")\n",
    "while True:\n",
    "    try:\n",
    "        år=int(input(\"Ange bilens produktionsår (heltal): \"))\n",
    "        break\n",
    "    except ValueError:\n",
    "        print(\"Ange årtal i heltal.\")\n",
    "\n",
    "min_bil=Bil(märke,färg,år)\n",
    "min_bil.beskriv_bil()\n",
    "\n",
    "min_bil.beräkna_år()"
   ]
  },
  {
   "cell_type": "code",
   "execution_count": null,
   "id": "79ff4eb2-91b1-4d88-8a61-9c1ca94148fa",
   "metadata": {},
   "outputs": [],
   "source": []
  }
 ],
 "metadata": {
  "kernelspec": {
   "display_name": "Python 3 (ipykernel)",
   "language": "python",
   "name": "python3"
  },
  "language_info": {
   "codemirror_mode": {
    "name": "ipython",
    "version": 3
   },
   "file_extension": ".py",
   "mimetype": "text/x-python",
   "name": "python",
   "nbconvert_exporter": "python",
   "pygments_lexer": "ipython3",
   "version": "3.12.7"
  }
 },
 "nbformat": 4,
 "nbformat_minor": 5
}
